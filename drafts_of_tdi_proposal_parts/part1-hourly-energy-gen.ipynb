{
 "cells": [
  {
   "cell_type": "markdown",
   "metadata": {},
   "source": [
    "### Preliminary research\n",
    "##### Energy datasets\n",
    " - [Data miner 2](https://dataminer2.pjm.com/list) from PJM (Pennsylvania, Jersey, Maryland) Interconnection - responsible for energy balancing and routing in the northeast\n",
    " - Solar farm in illinois that supposedly has hourly data according to [this guy](https://github.com/ColasGael/Machine-Learning-for-Solar-Energy-Prediction)\n",
    "\n",
    "##### Similar thing in Germany:\n",
    " - ML [coding project](https://medium.com/hugo-ferreiras-blog/predicting-wind-and-solar-generation-from-weather-data-using-machine-learning-998d7db8415e)\n",
    " - Uses this [dataset](https://data.open-power-system-data.org/time_series/)\n",
    "\n",
    "##### Other stuff\n",
    " - Universal [resource](https://openei.org/datasets/dataset?_tags_limit=0) for all things energy related\n",
    " - Report talking about [wind power](https://www.nrel.gov/docs/fy14osti/61714.pdf)"
   ]
  },
  {
   "cell_type": "markdown",
   "metadata": {},
   "source": [
    "### Final Dataset from [IESO](http://www.ieso.ca/en/Power-Data/Data-Directory) (Independent Electricity System Operator) - Ontario, Canada:\n",
    " - data [here](http://reports.ieso.ca/public/GenOutputCapability/PUB_GenOutputCapability.xml)\n",
    " - estimate station locations from [here](http://www.ieso.ca/localContent/ontarioenergymap/index.html)\n",
    " - also a list of stations on [wikipedia](https://en.wikipedia.org/wiki/List_of_generating_stations_in_Ontario)"
   ]
  },
  {
   "cell_type": "code",
   "execution_count": 2,
   "metadata": {},
   "outputs": [],
   "source": [
    "# import libraries and magic\n",
    "import numpy as np\n",
    "import pandas as pd\n",
    "import datetime as dt\n",
    "import seaborn as sns\n",
    "import matplotlib.pyplot as plt\n",
    "import re\n",
    "import geopandas\n",
    "import requests\n",
    "import glob\n",
    "import dill\n",
    "from IPython.display import display\n",
    "\n",
    "from pandas.plotting import register_matplotlib_converters\n",
    "register_matplotlib_converters()\n",
    "plt.rcParams.update({'font.size': 14})\n",
    "\n",
    "year = 2018"
   ]
  },
  {
   "cell_type": "code",
   "execution_count": 38,
   "metadata": {},
   "outputs": [
    {
     "name": "stdout",
     "output_type": "stream",
     "text": [
      "60\n"
     ]
    },
    {
     "data": {
      "text/html": [
       "<div>\n",
       "<style scoped>\n",
       "    .dataframe tbody tr th:only-of-type {\n",
       "        vertical-align: middle;\n",
       "    }\n",
       "\n",
       "    .dataframe tbody tr th {\n",
       "        vertical-align: top;\n",
       "    }\n",
       "\n",
       "    .dataframe thead th {\n",
       "        text-align: right;\n",
       "    }\n",
       "</style>\n",
       "<table border=\"1\" class=\"dataframe\">\n",
       "  <thead>\n",
       "    <tr style=\"text-align: right;\">\n",
       "      <th></th>\n",
       "      <th>latitude</th>\n",
       "      <th>longitude</th>\n",
       "      <th>station_name</th>\n",
       "      <th>station_type</th>\n",
       "      <th>station_alt_name</th>\n",
       "      <th>in_dataset</th>\n",
       "    </tr>\n",
       "  </thead>\n",
       "  <tbody>\n",
       "    <tr>\n",
       "      <th>0</th>\n",
       "      <td>43.100099</td>\n",
       "      <td>-81.634304</td>\n",
       "      <td>ADELAIDE</td>\n",
       "      <td>Wind</td>\n",
       "      <td>NaN</td>\n",
       "      <td>1</td>\n",
       "    </tr>\n",
       "    <tr>\n",
       "      <th>1</th>\n",
       "      <td>44.104724</td>\n",
       "      <td>-80.618731</td>\n",
       "      <td>AMARANTH</td>\n",
       "      <td>Wind</td>\n",
       "      <td>NaN</td>\n",
       "      <td>1</td>\n",
       "    </tr>\n",
       "    <tr>\n",
       "      <th>2</th>\n",
       "      <td>44.136418</td>\n",
       "      <td>-76.736188</td>\n",
       "      <td>AMHERST ISLAND</td>\n",
       "      <td>Wind</td>\n",
       "      <td>NaN</td>\n",
       "      <td>1</td>\n",
       "    </tr>\n",
       "    <tr>\n",
       "      <th>3</th>\n",
       "      <td>44.228352</td>\n",
       "      <td>-81.429660</td>\n",
       "      <td>ARMOW</td>\n",
       "      <td>Wind</td>\n",
       "      <td>NaN</td>\n",
       "      <td>1</td>\n",
       "    </tr>\n",
       "    <tr>\n",
       "      <th>4</th>\n",
       "      <td>42.293120</td>\n",
       "      <td>-82.712032</td>\n",
       "      <td>BELLE RIVER</td>\n",
       "      <td>Wind</td>\n",
       "      <td>NaN</td>\n",
       "      <td>1</td>\n",
       "    </tr>\n",
       "  </tbody>\n",
       "</table>\n",
       "</div>"
      ],
      "text/plain": [
       "    latitude  longitude    station_name station_type station_alt_name  \\\n",
       "0  43.100099 -81.634304        ADELAIDE         Wind              NaN   \n",
       "1  44.104724 -80.618731        AMARANTH         Wind              NaN   \n",
       "2  44.136418 -76.736188  AMHERST ISLAND         Wind              NaN   \n",
       "3  44.228352 -81.429660           ARMOW         Wind              NaN   \n",
       "4  42.293120 -82.712032     BELLE RIVER         Wind              NaN   \n",
       "\n",
       "   in_dataset  \n",
       "0           1  \n",
       "1           1  \n",
       "2           1  \n",
       "3           1  \n",
       "4           1  "
      ]
     },
     "metadata": {},
     "output_type": "display_data"
    }
   ],
   "source": [
    "# import station locations to DataFrame\n",
    "sloc_df = pd.read_csv('2wind_power_csv/ieso_locations.csv')\n",
    "print(len(sloc_df))\n",
    "display(sloc_df.head())"
   ]
  },
  {
   "cell_type": "code",
   "execution_count": 39,
   "metadata": {},
   "outputs": [],
   "source": [
    "# method to create hour, date, datetime (date + hour) columns in energy dataframes\n",
    "def concat_dt(df):\n",
    "    # temporarily split date into three columns & append to existing df\n",
    "    tmp = df['Date'].str.split('-', expand=True)\n",
    "    tmp.columns = ['day','month','year']\n",
    "    tmp.loc[:,'day'] = tmp['day']\n",
    "    df = pd.concat([df, tmp], sort=False, axis=1)\n",
    "    \n",
    "    # zero-pad days and hours\n",
    "    df.loc[:,'day'] = df['day'].astype('int').apply(lambda x: '{0:02d}'.format(x))\n",
    "    df.loc[:,'hour'] = (df['Hour'].astype('int') - 1).apply(lambda x: '{0:02d}'.format(x))\n",
    "    \n",
    "    # create date and datetime columns\n",
    "    df.loc[:,'date'] = \\\n",
    "        df['year'].astype('str') + '-' +\\\n",
    "        df['month'].astype('str') + '-' +\\\n",
    "        df['day'].astype('str')\n",
    "    df.loc[:,'datetime'] = df['date'].astype('str') + '-' + df['hour'].astype('str')\n",
    "    \n",
    "    # convert to datetimeobjects\n",
    "    df.loc[:,'date'] = pd.to_datetime(df['date'], format='%y-%b-%d')\n",
    "    df.loc[:,'datetime'] = pd.to_datetime(df['datetime'], format='%y-%b-%d-%H')\n",
    "    \n",
    "    # drop miscelaneous columns we don't need\n",
    "    df.drop(['Date','Hour','year', 'month', 'day'], axis=1, inplace=True)\n",
    "    \n",
    "    # convert hour back to integer\n",
    "    df.loc[:,'hour'] = df['hour'].astype('int')\n",
    "    return df"
   ]
  },
  {
   "cell_type": "code",
   "execution_count": 40,
   "metadata": {},
   "outputs": [],
   "source": [
    "# import station data (output, capabilites, available capacities) to DataFrames\n",
    "otpt_df = pd.read_csv('2wind_power_csv/GOC-' + str(year) + '-output.csv')\n",
    "otpt_df = concat_dt(otpt_df)\n",
    "capa_df = pd.read_csv('2wind_power_csv/GOC-' + str(year) + '-capabilities.csv')\n",
    "capa_df = concat_dt(capa_df)"
   ]
  },
  {
   "cell_type": "code",
   "execution_count": 41,
   "metadata": {
    "scrolled": true
   },
   "outputs": [],
   "source": [
    "# print(\"Station Locations\")\n",
    "# display(sloc_df.head(3))"
   ]
  },
  {
   "cell_type": "code",
   "execution_count": 42,
   "metadata": {},
   "outputs": [],
   "source": [
    "# print(\"Station Output\")\n",
    "# display(otpt_df.head(3))"
   ]
  },
  {
   "cell_type": "code",
   "execution_count": 43,
   "metadata": {},
   "outputs": [],
   "source": [
    "# print(\"Station Capabilities\")\n",
    "# display(capa_df.head(3))"
   ]
  },
  {
   "cell_type": "code",
   "execution_count": 44,
   "metadata": {},
   "outputs": [
    {
     "name": "stdout",
     "output_type": "stream",
     "text": [
      "37 wind farms in Ontario to analyze\n",
      "['ADELAIDE', 'AMARANTH', 'ARMOW', 'BELLE RIVER', 'BLAKE', 'BORNISH', 'BOW LAKE', 'BOW LAKE 2', 'CEDAR POINT 2', 'COMBER', 'DILLON', 'EAST LAKE', 'ERIEAU', 'GOSFIELDWGS', 'GOSHEN', 'GOULAIS', 'GRAND VALLEY 3', 'GRANDWF', 'GREENWICH', 'JERICHO', 'K2WIND', 'KINGSBRIDGE', 'LANDON', 'NORTH KENT', 'PAROCHES', 'PORT BURWELL', 'PORTALMA-T1', 'PORTALMA-T3', 'PRINCEFARM', 'RIPLEY SOUTH', 'SHANNON', 'SPENCE', 'SUMMERHAVEN', 'UNDERWOOD', 'WEST LINCOLN NRWF', 'WOLFE ISLAND', 'ZURICH']\n",
      "(37, 6)\n"
     ]
    }
   ],
   "source": [
    "# Extract names of wind stations for which we have both location and power output information\n",
    "# LOCATION INFO\n",
    "tmp1 = sloc_df.loc[\n",
    "    (sloc_df['in_dataset']==1) &\n",
    "    (sloc_df['station_type']=='Wind')]\n",
    "tmp1 = list(tmp1.station_name)\n",
    "\n",
    "# POWER OUTPUT INFO\n",
    "nentries = otpt_df.TOTAL.count()\n",
    "tmp2 = list(otpt_df.loc[:,otpt_df.count() > (0.9*nentries)].columns)\n",
    "\n",
    "# combine\n",
    "wind_station_names = [x for x in tmp1 if x in tmp2]\n",
    "print(len(wind_station_names),'wind farms in Ontario to analyze')\n",
    "print(wind_station_names)\n",
    "\n",
    "# save location information for this subset of stations\n",
    "true_sloc_df = sloc_df[sloc_df['station_name'].isin(wind_station_names)]\n",
    "print(true_sloc_df.shape)"
   ]
  },
  {
   "cell_type": "code",
   "execution_count": 45,
   "metadata": {},
   "outputs": [],
   "source": [
    "# Filter down to just wind stations in otpt_df\n",
    "newcols = ['hour','date','datetime'] + wind_station_names\n",
    "wind_otpt_df = otpt_df.interpolate().loc[:,newcols]\n",
    "wind_pred_df = capa_df.interpolate().loc[:,newcols]\n",
    "# display(wind_otpt_df.head(3))\n",
    "# display(wind_pred_df.head(3))"
   ]
  },
  {
   "cell_type": "code",
   "execution_count": 46,
   "metadata": {
    "scrolled": true
   },
   "outputs": [
    {
     "data": {
      "text/html": [
       "<div>\n",
       "<style scoped>\n",
       "    .dataframe tbody tr th:only-of-type {\n",
       "        vertical-align: middle;\n",
       "    }\n",
       "\n",
       "    .dataframe tbody tr th {\n",
       "        vertical-align: top;\n",
       "    }\n",
       "\n",
       "    .dataframe thead th {\n",
       "        text-align: right;\n",
       "    }\n",
       "</style>\n",
       "<table border=\"1\" class=\"dataframe\">\n",
       "  <thead>\n",
       "    <tr style=\"text-align: right;\">\n",
       "      <th></th>\n",
       "      <th>hour</th>\n",
       "      <th>date</th>\n",
       "      <th>datetime</th>\n",
       "      <th>station_name</th>\n",
       "      <th>power_output</th>\n",
       "      <th>pred_power_output</th>\n",
       "      <th>max_power_output</th>\n",
       "      <th>pmax_power_output</th>\n",
       "      <th>pred_pmax_power_output</th>\n",
       "    </tr>\n",
       "  </thead>\n",
       "  <tbody>\n",
       "    <tr>\n",
       "      <th>0</th>\n",
       "      <td>0</td>\n",
       "      <td>2018-01-01</td>\n",
       "      <td>2018-01-01 00:00:00</td>\n",
       "      <td>ADELAIDE</td>\n",
       "      <td>27.0</td>\n",
       "      <td>29.0</td>\n",
       "      <td>59.0</td>\n",
       "      <td>0.457627</td>\n",
       "      <td>0.491525</td>\n",
       "    </tr>\n",
       "    <tr>\n",
       "      <th>1</th>\n",
       "      <td>1</td>\n",
       "      <td>2018-01-01</td>\n",
       "      <td>2018-01-01 01:00:00</td>\n",
       "      <td>ADELAIDE</td>\n",
       "      <td>37.0</td>\n",
       "      <td>33.0</td>\n",
       "      <td>59.0</td>\n",
       "      <td>0.627119</td>\n",
       "      <td>0.559322</td>\n",
       "    </tr>\n",
       "    <tr>\n",
       "      <th>2</th>\n",
       "      <td>2</td>\n",
       "      <td>2018-01-01</td>\n",
       "      <td>2018-01-01 02:00:00</td>\n",
       "      <td>ADELAIDE</td>\n",
       "      <td>40.0</td>\n",
       "      <td>39.0</td>\n",
       "      <td>59.0</td>\n",
       "      <td>0.677966</td>\n",
       "      <td>0.661017</td>\n",
       "    </tr>\n",
       "    <tr>\n",
       "      <th>3</th>\n",
       "      <td>3</td>\n",
       "      <td>2018-01-01</td>\n",
       "      <td>2018-01-01 03:00:00</td>\n",
       "      <td>ADELAIDE</td>\n",
       "      <td>42.0</td>\n",
       "      <td>39.0</td>\n",
       "      <td>59.0</td>\n",
       "      <td>0.711864</td>\n",
       "      <td>0.661017</td>\n",
       "    </tr>\n",
       "    <tr>\n",
       "      <th>4</th>\n",
       "      <td>4</td>\n",
       "      <td>2018-01-01</td>\n",
       "      <td>2018-01-01 04:00:00</td>\n",
       "      <td>ADELAIDE</td>\n",
       "      <td>39.0</td>\n",
       "      <td>38.0</td>\n",
       "      <td>59.0</td>\n",
       "      <td>0.661017</td>\n",
       "      <td>0.644068</td>\n",
       "    </tr>\n",
       "  </tbody>\n",
       "</table>\n",
       "</div>"
      ],
      "text/plain": [
       "   hour       date            datetime station_name  power_output  \\\n",
       "0     0 2018-01-01 2018-01-01 00:00:00     ADELAIDE          27.0   \n",
       "1     1 2018-01-01 2018-01-01 01:00:00     ADELAIDE          37.0   \n",
       "2     2 2018-01-01 2018-01-01 02:00:00     ADELAIDE          40.0   \n",
       "3     3 2018-01-01 2018-01-01 03:00:00     ADELAIDE          42.0   \n",
       "4     4 2018-01-01 2018-01-01 04:00:00     ADELAIDE          39.0   \n",
       "\n",
       "   pred_power_output  max_power_output  pmax_power_output  \\\n",
       "0               29.0              59.0           0.457627   \n",
       "1               33.0              59.0           0.627119   \n",
       "2               39.0              59.0           0.677966   \n",
       "3               39.0              59.0           0.711864   \n",
       "4               38.0              59.0           0.661017   \n",
       "\n",
       "   pred_pmax_power_output  \n",
       "0                0.491525  \n",
       "1                0.559322  \n",
       "2                0.661017  \n",
       "3                0.661017  \n",
       "4                0.644068  "
      ]
     },
     "metadata": {},
     "output_type": "display_data"
    }
   ],
   "source": [
    "# Melt so that there are only \"station_name\" and \"power_output\" columns rather than one column per station\n",
    "melted_wind_otpt_df = pd.melt(wind_otpt_df, id_vars=[\"hour\", \"date\", \"datetime\"], var_name=\"station_name\", value_name=\"power_output\")                                \n",
    "melted_wind_pred_df = pd.melt(wind_pred_df, id_vars=[\"hour\", \"date\", \"datetime\"], var_name=\"station_name\", value_name=\"pred_power_output\")                                \n",
    "                                     \n",
    "# Add (1) predicted power gen and (2) % max for wind_otpt to final wind df\n",
    "melted_wind_otpt_df['pred_power_output'] = melted_wind_pred_df['pred_power_output']\n",
    "melted_wind_otpt_df['max_power_output'] = melted_wind_otpt_df['power_output'].groupby(melted_wind_otpt_df['station_name']).transform('max')\n",
    "melted_wind_otpt_df['pmax_power_output'] = melted_wind_otpt_df['power_output'] / melted_wind_otpt_df['max_power_output']\n",
    "melted_wind_otpt_df['pred_pmax_power_output'] = melted_wind_otpt_df['pred_power_output'] / melted_wind_otpt_df['max_power_output']\n",
    "\n",
    "# make sure calcs worked as expected\n",
    "display(melted_wind_otpt_df.head(5))"
   ]
  },
  {
   "cell_type": "code",
   "execution_count": 47,
   "metadata": {
    "scrolled": true
   },
   "outputs": [
    {
     "data": {
      "image/png": "[encoded data removed]",
      "text/plain": [
       "<Figure size 864x288 with 1 Axes>"
      ]
     },
     "metadata": {
      "needs_background": "light"
     },
     "output_type": "display_data"
    }
   ],
   "source": [
    "# plot some energy vs time\n",
    "# visualize hourly wind power generation at station n\n",
    "stn = 'AMARANTH'\n",
    "# stn = 'GREENWICH'\n",
    "start_date  = dt.datetime(year, 8, 1)\n",
    "end_date = dt.datetime(year, 8, 7)\n",
    "# start_date  = dt.datetime(year, 4, 13)\n",
    "# end_date = dt.datetime(year, 4, 19)\n",
    "\n",
    "f,ax = plt.subplots(figsize=(12,4))\n",
    "\n",
    "# data from single station\n",
    "tmp_wind_otpt_df = melted_wind_otpt_df.loc[\n",
    "    (melted_wind_otpt_df['datetime']>start_date) & \n",
    "    (melted_wind_otpt_df['datetime']<end_date) & \n",
    "    (melted_wind_otpt_df['station_name']==stn)]\n",
    "\n",
    "sns.lineplot(x='datetime', y='power_output', data=tmp_wind_otpt_df, color=\"#9b59b6\")\n",
    "sns.lineplot(x='datetime', y='pred_power_output', data=tmp_wind_otpt_df, color=\"#3498db\")\n",
    "ax.set_xlim([start_date,end_date])\n",
    "plt.xticks(rotation=90)\n",
    "ax.set_ylabel('Power Generation at\\n' + stn + ' wind farm (MW)')\n",
    "ax.set_xlabel('Date')\n",
    "plt.show();"
   ]
  },
  {
   "cell_type": "code",
   "execution_count": 48,
   "metadata": {},
   "outputs": [],
   "source": [
    "# At this point we've got two pieces of information - write them to csv\n",
    "#    (1) sloc_df = Wind farm locations (and other metadata) - already saved as `ieso_locations.csv`\n",
    "#    (2) melted_wind_otpt_df = Wind farm power output\n",
    "\n",
    "true_sloc_df.to_csv('4cleaned_wind_power_data/compiled_wind_farm_station_metadata_' + str(year) + '.csv')\n",
    "melted_wind_otpt_df.to_csv('4cleaned_wind_power_data/compiled_wind_power_data_' + str(year) + '.csv')"
   ]
  }
 ],
 "metadata": {
  "kernelspec": {
   "display_name": "Python 3",
   "language": "python",
   "name": "python3"
  },
  "language_info": {
   "codemirror_mode": {
    "name": "ipython",
    "version": 3
   },
   "file_extension": ".py",
   "mimetype": "text/x-python",
   "name": "python",
   "nbconvert_exporter": "python",
   "pygments_lexer": "ipython3",
   "version": "3.7.3"
  }
 },
 "nbformat": 4,
 "nbformat_minor": 2
}
