{
 "cells": [
  {
   "cell_type": "markdown",
   "metadata": {},
   "source": [
    "### Resources used in this jupyter notebook\n",
    " - This database may contain best data for ML training... [openweathermap.org](https://openweathermap.org/history#historybulk)\n",
    " - NOAA actually does have what is called the ISD or [Integrated Surface Data](ftp://ftp.ncdc.noaa.gov/pub/data/noaa/isd-lite/2018/), which has station-by-station hourly files for temp, wind dir, wind speed (but most of cloud cover data is missing)"
   ]
  },
  {
   "cell_type": "markdown",
   "metadata": {},
   "source": [
    "### Overview\n",
    "1) Load, clean, organize the following data\n",
    " - Temp, wind dir, wind speed hour-by-hour [here](ftp://ftp.ncdc.noaa.gov/pub/data/noaa/isd-lite/2018/)\n",
    " - Station metadata from the isd_inventory.txt (or .csv) [here](ftp://ftp.ncdc.noaa.gov/pub/data/noaa)\n",
    " - Even more station metadata such as number of datapoints from isd_history.txt (or .csv) [here](ftp://ftp.ncdc.noaa.gov/pub/data/noaa)\n",
    "2) Plotting resources\n",
    " - Geopandas and geoplot [here](http://geopandas.org/gallery/plotting_with_geoplot.html)\n",
    " - Quiver plot for wind directional data [here](https://stackoverflow.com/questions/55338556/how-to-overlay-a-quiver-plot-on-a-geodataframe-plot-in-python)\n",
    " - Bokeh + geopandas + interactive = [great resource](https://automating-gis-processes.github.io/2016/Lesson5-interactive-map-bokeh.html)"
   ]
  },
  {
   "cell_type": "code",
   "execution_count": 46,
   "metadata": {},
   "outputs": [],
   "source": [
    "# import libraries and magic\n",
    "import numpy as np\n",
    "import pandas as pd\n",
    "import datetime as dt\n",
    "import seaborn as sns\n",
    "import matplotlib.pyplot as plt\n",
    "import re\n",
    "import geopandas\n",
    "import requests\n",
    "import glob\n",
    "from IPython.display import display\n",
    "\n",
    "from pandas.plotting import register_matplotlib_converters\n",
    "register_matplotlib_converters()\n",
    "plt.rcParams.update({'font.size': 12})"
   ]
  },
  {
   "cell_type": "code",
   "execution_count": 47,
   "metadata": {},
   "outputs": [
    {
     "data": {
      "text/html": [
       "<div>\n",
       "<style scoped>\n",
       "    .dataframe tbody tr th:only-of-type {\n",
       "        vertical-align: middle;\n",
       "    }\n",
       "\n",
       "    .dataframe tbody tr th {\n",
       "        vertical-align: top;\n",
       "    }\n",
       "\n",
       "    .dataframe thead th {\n",
       "        text-align: right;\n",
       "    }\n",
       "</style>\n",
       "<table border=\"1\" class=\"dataframe\">\n",
       "  <thead>\n",
       "    <tr style=\"text-align: right;\">\n",
       "      <th></th>\n",
       "      <th>af_station_id</th>\n",
       "      <th>ncdc_station_id</th>\n",
       "      <th>station_name</th>\n",
       "      <th>country_id</th>\n",
       "      <th>airport_id</th>\n",
       "      <th>latitude</th>\n",
       "      <th>longitude</th>\n",
       "      <th>elevation</th>\n",
       "      <th>begin</th>\n",
       "      <th>end</th>\n",
       "    </tr>\n",
       "  </thead>\n",
       "  <tbody>\n",
       "    <tr>\n",
       "      <th>15620</th>\n",
       "      <td>710630</td>\n",
       "      <td>99999</td>\n",
       "      <td>OTTAWA CDA RCS  ONT</td>\n",
       "      <td>CA</td>\n",
       "      <td>NaN</td>\n",
       "      <td>45.383</td>\n",
       "      <td>-75.717</td>\n",
       "      <td>79.0</td>\n",
       "      <td>1977-07-01</td>\n",
       "      <td>2019-04-23</td>\n",
       "    </tr>\n",
       "    <tr>\n",
       "      <th>15811</th>\n",
       "      <td>711610</td>\n",
       "      <td>99999</td>\n",
       "      <td>BROCKVILLE CLIMATE</td>\n",
       "      <td>CA</td>\n",
       "      <td>CTBO</td>\n",
       "      <td>44.633</td>\n",
       "      <td>-75.733</td>\n",
       "      <td>120.0</td>\n",
       "      <td>1993-07-01</td>\n",
       "      <td>2019-04-23</td>\n",
       "    </tr>\n",
       "    <tr>\n",
       "      <th>15823</th>\n",
       "      <td>711710</td>\n",
       "      <td>99999</td>\n",
       "      <td>VINELAND STATION RCS  O</td>\n",
       "      <td>CA</td>\n",
       "      <td>CXVN</td>\n",
       "      <td>43.183</td>\n",
       "      <td>-79.400</td>\n",
       "      <td>79.0</td>\n",
       "      <td>2004-05-10</td>\n",
       "      <td>2019-04-23</td>\n",
       "    </tr>\n",
       "    <tr>\n",
       "      <th>15824</th>\n",
       "      <td>711720</td>\n",
       "      <td>99999</td>\n",
       "      <td>PARRY SOUND CCG  ONT</td>\n",
       "      <td>CA</td>\n",
       "      <td>CXPC</td>\n",
       "      <td>45.333</td>\n",
       "      <td>-80.033</td>\n",
       "      <td>176.0</td>\n",
       "      <td>2004-08-03</td>\n",
       "      <td>2019-04-23</td>\n",
       "    </tr>\n",
       "    <tr>\n",
       "      <th>15857</th>\n",
       "      <td>711960</td>\n",
       "      <td>99999</td>\n",
       "      <td>PEMBROKE CLIMATE</td>\n",
       "      <td>CA</td>\n",
       "      <td>NaN</td>\n",
       "      <td>45.867</td>\n",
       "      <td>-77.250</td>\n",
       "      <td>162.0</td>\n",
       "      <td>1959-11-17</td>\n",
       "      <td>2019-04-23</td>\n",
       "    </tr>\n",
       "  </tbody>\n",
       "</table>\n",
       "</div>"
      ],
      "text/plain": [
       "      af_station_id  ncdc_station_id             station_name country_id  \\\n",
       "15620        710630            99999      OTTAWA CDA RCS  ONT         CA   \n",
       "15811        711610            99999       BROCKVILLE CLIMATE         CA   \n",
       "15823        711710            99999  VINELAND STATION RCS  O         CA   \n",
       "15824        711720            99999     PARRY SOUND CCG  ONT         CA   \n",
       "15857        711960            99999         PEMBROKE CLIMATE         CA   \n",
       "\n",
       "      airport_id  latitude  longitude  elevation      begin        end  \n",
       "15620        NaN    45.383    -75.717       79.0 1977-07-01 2019-04-23  \n",
       "15811       CTBO    44.633    -75.733      120.0 1993-07-01 2019-04-23  \n",
       "15823       CXVN    43.183    -79.400       79.0 2004-05-10 2019-04-23  \n",
       "15824       CXPC    45.333    -80.033      176.0 2004-08-03 2019-04-23  \n",
       "15857        NaN    45.867    -77.250      162.0 1959-11-17 2019-04-23  "
      ]
     },
     "metadata": {},
     "output_type": "display_data"
    },
    {
     "name": "stdout",
     "output_type": "stream",
     "text": [
      "af_station_id              object\n",
      "ncdc_station_id             int64\n",
      "station_name               object\n",
      "country_id                 object\n",
      "airport_id                 object\n",
      "latitude                  float64\n",
      "longitude                 float64\n",
      "elevation                 float64\n",
      "begin              datetime64[ns]\n",
      "end                datetime64[ns]\n",
      "dtype: object\n",
      "Number of stations in Canada with at least four recent years of data: 70\n"
     ]
    }
   ],
   "source": [
    "# station IDs + metadata like lat/lon\n",
    "year = 2018\n",
    "meta_url = 'ftp://ftp.ncdc.noaa.gov/pub/data/noaa/isd-history.txt'\n",
    "meta_df = pd.read_fwf(\n",
    "    meta_url,\n",
    "    skiprows=22,\n",
    "    names=[\n",
    "        'af_station_id',\n",
    "        'ncdc_station_id',\n",
    "        'station_name',\n",
    "        'country_id',\n",
    "        'airport_id',\n",
    "        'latitude',\n",
    "        'longitude',\n",
    "        'elevation',\n",
    "        'begin',\n",
    "        'end'])\n",
    "\n",
    "# Convert dates to datetime\n",
    "date_before = dt.datetime(year, 1, 1)\n",
    "meta_df['begin'] = pd.to_datetime(meta_df['begin'], format='%Y%m%d') # convert to date-time format\n",
    "meta_df['end'] = pd.to_datetime(meta_df['end'], format='%Y%m%d') #convert to date-time format\n",
    "\n",
    "# filter on country (canadian stations)\n",
    "meta_df = meta_df.loc[meta_df['country_id']=='CA']\n",
    "\n",
    "# filter on date (only those with recent data included)\n",
    "date_after = dt.datetime(2015, 1, 1)\n",
    "date_before = dt.datetime(2019, 1, 1)\n",
    "meta_df = meta_df.loc[(meta_df['begin']<date_after) & (meta_df['end']>date_before)]\n",
    "\n",
    "# Filter on location (hone in on southern Ontario for now)\n",
    "lat_lims = [41.628091, 46.698737]\n",
    "lon_lims = [-83.313449, -74.216769]\n",
    "meta_df = meta_df.loc[(meta_df['latitude']>lat_lims[0]) & (meta_df['latitude']<lat_lims[1])]\n",
    "meta_df = meta_df.loc[(meta_df['longitude']>lon_lims[0]) & (meta_df['longitude']<lon_lims[1])]\n",
    "\n",
    "# get rid of station id 9999\n",
    "meta_df = meta_df.loc[meta_df['af_station_id']!='999999',:]\n",
    "\n",
    "# Look at what we've got\n",
    "display(meta_df.head())\n",
    "print(meta_df.dtypes)\n",
    "print('Number of stations in Canada with at least four recent years of data:',len(meta_df))"
   ]
  },
  {
   "cell_type": "code",
   "execution_count": 48,
   "metadata": {},
   "outputs": [],
   "source": [
    "# required for future auto-conversion of pandas datetime objects for plotting\n",
    "from pandas.plotting import register_matplotlib_converters\n",
    "register_matplotlib_converters()\n",
    "plt.rcParams.update({'font.size': 14})"
   ]
  },
  {
   "cell_type": "code",
   "execution_count": 49,
   "metadata": {},
   "outputs": [
    {
     "data": {
      "image/png": "[encoded data removed]",
      "text/plain": [
       "<Figure size 432x288 with 1 Axes>"
      ]
     },
     "metadata": {
      "needs_background": "light"
     },
     "output_type": "display_data"
    }
   ],
   "source": [
    "sns.scatterplot(x='longitude',y='latitude',data=meta_df);"
   ]
  },
  {
   "cell_type": "code",
   "execution_count": 50,
   "metadata": {},
   "outputs": [
    {
     "name": "stdout",
     "output_type": "stream",
     "text": [
      "70 unique af_station_id's in dataset\n"
     ]
    }
   ],
   "source": [
    "# extract list of stations\n",
    "print(len(meta_df['af_station_id'].value_counts()),'unique af_station_id\\'s in dataset')"
   ]
  },
  {
   "cell_type": "code",
   "execution_count": 51,
   "metadata": {},
   "outputs": [],
   "source": [
    "# figure out what all my files are called\n",
    "def get_filenames(url, meta_df):\n",
    "    fndf = pd.read_fwf(url,names = ['a','b','c','d','e','f','g','h','filename'])\n",
    "    split_fndf = fndf['filename'].str.split('-', expand=True)\n",
    "    split_fndf.columns = ['a','b','c']\n",
    "    subset = split_fndf[split_fndf['a'].isin(meta_df['af_station_id'])]\n",
    "    subset.loc[:,'filename'] = url + '/' + subset['a'] + '-' + subset['b'] + '-' + subset['c'] # reassemble filename\n",
    "    subset = subset.drop(['a','b','c'], axis=1)\n",
    "    subset = subset.reset_index()\n",
    "    return subset"
   ]
  },
  {
   "cell_type": "code",
   "execution_count": 52,
   "metadata": {},
   "outputs": [],
   "source": [
    "# method to convert units within each dataset\n",
    "def convert_units(df):\n",
    "    df.replace(-9999, np.nan, inplace=True)\n",
    "    df['temp'] = df['temp'] * 0.1 * (9/5) + 32# in Farenheit\n",
    "    df['dew_point'] = df['dew_point'] * 0.1 * (9/5) + 32 # in Farenheit\n",
    "    df['pressure'] = df['pressure'] * 0.01 # in kPa\n",
    "    df['pressure'] = df['pressure'].interpolate() # fill in some nan values present in the original data\n",
    "    df['wind_speed'] = df['wind_speed'] * 0.2237 # in mph\n",
    "    df['precip_1hr'] = df['precip_1hr'] * 0.003937007866 # in inches\n",
    "    df['precip_6hr'] = df['precip_6hr'] * 0.003937007866 # in inches\n",
    "    return df"
   ]
  },
  {
   "cell_type": "code",
   "execution_count": 53,
   "metadata": {},
   "outputs": [],
   "source": [
    "# method to concatenate year, month, day, hour into datetime object\n",
    "def concat_dt(df, year):\n",
    "    df.loc[:,'date'] = \\\n",
    "        df['year'].astype('str') + '-' +\\\n",
    "        df['month'].astype('str') + '-' +\\\n",
    "        df['day'].astype('str')\n",
    "    df.loc[:,'datetime'] = df['date'].astype('str') + '-' + df['hour'].astype('str')\n",
    "    df.loc[:,'date'] = pd.to_datetime(df['date'], format='%Y-%m-%d')\n",
    "    df.loc[:,'datetime'] = pd.to_datetime(df['datetime'], format='%Y-%m-%d-%H')\n",
    "    df.drop(['year', 'month', 'day'], axis=1, inplace=True)\n",
    "    df.loc[:,'hour'] = df['hour'].astype('int')\n",
    "    df.loc[:,'datetime'] = df['datetime'].dt.strftime('%Y-%m-%d-%H')\n",
    "    \n",
    "    \n",
    "    #Fill missing dates with nan then mean of the two data points on either side of it\n",
    "    truedaterange = pd.date_range('01-01-'+str(year)+' 00:00:00', '12-31-'+str(year)+' 23:59:59', freq='H')\n",
    "    df.index = pd.DatetimeIndex(df['datetime'])\n",
    "    df = df.reindex(truedaterange, fill_value=np.nan)\n",
    "    df = df.ffill().bfill()\n",
    "    df.reset_index(inplace=True)\n",
    "    df.drop(columns='datetime', inplace=True)\n",
    "    df.rename(columns={'index':'datetime'}, inplace=True)\n",
    "    return df"
   ]
  },
  {
   "cell_type": "code",
   "execution_count": 54,
   "metadata": {},
   "outputs": [],
   "source": [
    "def load_weather_data(filenames, year):\n",
    "    result = pd.DataFrame(data = [],columns = ['hour','temp','dew_point','pressure','wind_dir','wind_speed','sky_conditions','precip_1hr','precip_6hr','date','station_id','datetime'])\n",
    "    for file in filenames['filename']:\n",
    "        tmp = pd.read_fwf(file, names = ['year','month','day','hour','temp','dew_point','pressure','wind_dir','wind_speed','sky_conditions','precip_1hr','precip_6hr'])\n",
    "        tmp = convert_units(tmp)\n",
    "        tmp = concat_dt(tmp, year)\n",
    "        tmp.loc[:,'station_id'] = file[-20:-14]\n",
    "        result = pd.concat([result,tmp], sort=False, axis=0)\n",
    "    return result"
   ]
  },
  {
   "cell_type": "code",
   "execution_count": 55,
   "metadata": {},
   "outputs": [],
   "source": [
    "# Pipeline of data injestion\n",
    "ftp_url = 'ftp://ftp.ncdc.noaa.gov/pub/data/noaa/isd-lite/' + str(year) + '/'\n",
    "filenames = get_filenames(ftp_url, meta_df)"
   ]
  },
  {
   "cell_type": "code",
   "execution_count": 56,
   "metadata": {
    "scrolled": true
   },
   "outputs": [],
   "source": [
    "wthr_df = load_weather_data(filenames, year)"
   ]
  },
  {
   "cell_type": "code",
   "execution_count": 57,
   "metadata": {},
   "outputs": [
    {
     "name": "stdout",
     "output_type": "stream",
     "text": [
      "(613200, 12)\n",
      "hour                     float64\n",
      "temp                     float64\n",
      "dew_point                float64\n",
      "pressure                 float64\n",
      "wind_dir                 float64\n",
      "wind_speed               float64\n",
      "sky_conditions           float64\n",
      "precip_1hr               float64\n",
      "precip_6hr               float64\n",
      "date              datetime64[ns]\n",
      "station_id                object\n",
      "datetime          datetime64[ns]\n",
      "dtype: object\n"
     ]
    },
    {
     "data": {
      "text/html": [
       "<div>\n",
       "<style scoped>\n",
       "    .dataframe tbody tr th:only-of-type {\n",
       "        vertical-align: middle;\n",
       "    }\n",
       "\n",
       "    .dataframe tbody tr th {\n",
       "        vertical-align: top;\n",
       "    }\n",
       "\n",
       "    .dataframe thead th {\n",
       "        text-align: right;\n",
       "    }\n",
       "</style>\n",
       "<table border=\"1\" class=\"dataframe\">\n",
       "  <thead>\n",
       "    <tr style=\"text-align: right;\">\n",
       "      <th></th>\n",
       "      <th>hour</th>\n",
       "      <th>temp</th>\n",
       "      <th>dew_point</th>\n",
       "      <th>pressure</th>\n",
       "      <th>wind_dir</th>\n",
       "      <th>wind_speed</th>\n",
       "      <th>sky_conditions</th>\n",
       "      <th>precip_1hr</th>\n",
       "      <th>precip_6hr</th>\n",
       "      <th>date</th>\n",
       "      <th>station_id</th>\n",
       "      <th>datetime</th>\n",
       "    </tr>\n",
       "  </thead>\n",
       "  <tbody>\n",
       "    <tr>\n",
       "      <th>0</th>\n",
       "      <td>0.0</td>\n",
       "      <td>-6.70</td>\n",
       "      <td>-16.42</td>\n",
       "      <td>102.98</td>\n",
       "      <td>280.0</td>\n",
       "      <td>8.0532</td>\n",
       "      <td>NaN</td>\n",
       "      <td>0.007874</td>\n",
       "      <td>0.0</td>\n",
       "      <td>2018-01-01</td>\n",
       "      <td>710630</td>\n",
       "      <td>2018-01-01 00:00:00</td>\n",
       "    </tr>\n",
       "    <tr>\n",
       "      <th>1</th>\n",
       "      <td>1.0</td>\n",
       "      <td>-6.16</td>\n",
       "      <td>-15.52</td>\n",
       "      <td>102.99</td>\n",
       "      <td>290.0</td>\n",
       "      <td>11.4087</td>\n",
       "      <td>NaN</td>\n",
       "      <td>0.007874</td>\n",
       "      <td>0.0</td>\n",
       "      <td>2018-01-01</td>\n",
       "      <td>710630</td>\n",
       "      <td>2018-01-01 01:00:00</td>\n",
       "    </tr>\n",
       "    <tr>\n",
       "      <th>2</th>\n",
       "      <td>2.0</td>\n",
       "      <td>-8.14</td>\n",
       "      <td>-16.42</td>\n",
       "      <td>103.03</td>\n",
       "      <td>280.0</td>\n",
       "      <td>6.9347</td>\n",
       "      <td>NaN</td>\n",
       "      <td>0.007874</td>\n",
       "      <td>0.0</td>\n",
       "      <td>2018-01-01</td>\n",
       "      <td>710630</td>\n",
       "      <td>2018-01-01 02:00:00</td>\n",
       "    </tr>\n",
       "    <tr>\n",
       "      <th>3</th>\n",
       "      <td>3.0</td>\n",
       "      <td>-9.22</td>\n",
       "      <td>-16.24</td>\n",
       "      <td>103.03</td>\n",
       "      <td>260.0</td>\n",
       "      <td>4.6977</td>\n",
       "      <td>NaN</td>\n",
       "      <td>0.007874</td>\n",
       "      <td>0.0</td>\n",
       "      <td>2018-01-01</td>\n",
       "      <td>710630</td>\n",
       "      <td>2018-01-01 03:00:00</td>\n",
       "    </tr>\n",
       "    <tr>\n",
       "      <th>4</th>\n",
       "      <td>4.0</td>\n",
       "      <td>-9.58</td>\n",
       "      <td>-16.78</td>\n",
       "      <td>103.04</td>\n",
       "      <td>280.0</td>\n",
       "      <td>5.8162</td>\n",
       "      <td>NaN</td>\n",
       "      <td>0.007874</td>\n",
       "      <td>0.0</td>\n",
       "      <td>2018-01-01</td>\n",
       "      <td>710630</td>\n",
       "      <td>2018-01-01 04:00:00</td>\n",
       "    </tr>\n",
       "  </tbody>\n",
       "</table>\n",
       "</div>"
      ],
      "text/plain": [
       "   hour  temp  dew_point  pressure  wind_dir  wind_speed  sky_conditions  \\\n",
       "0   0.0 -6.70     -16.42    102.98     280.0      8.0532             NaN   \n",
       "1   1.0 -6.16     -15.52    102.99     290.0     11.4087             NaN   \n",
       "2   2.0 -8.14     -16.42    103.03     280.0      6.9347             NaN   \n",
       "3   3.0 -9.22     -16.24    103.03     260.0      4.6977             NaN   \n",
       "4   4.0 -9.58     -16.78    103.04     280.0      5.8162             NaN   \n",
       "\n",
       "   precip_1hr  precip_6hr       date station_id            datetime  \n",
       "0    0.007874         0.0 2018-01-01     710630 2018-01-01 00:00:00  \n",
       "1    0.007874         0.0 2018-01-01     710630 2018-01-01 01:00:00  \n",
       "2    0.007874         0.0 2018-01-01     710630 2018-01-01 02:00:00  \n",
       "3    0.007874         0.0 2018-01-01     710630 2018-01-01 03:00:00  \n",
       "4    0.007874         0.0 2018-01-01     710630 2018-01-01 04:00:00  "
      ]
     },
     "metadata": {},
     "output_type": "display_data"
    }
   ],
   "source": [
    "print(wthr_df.shape)\n",
    "print(wthr_df.dtypes)\n",
    "display(wthr_df.head(5))"
   ]
  },
  {
   "cell_type": "code",
   "execution_count": 58,
   "metadata": {},
   "outputs": [
    {
     "data": {
      "image/png": "[encoded data removed]",
      "text/plain": [
       "<Figure size 864x288 with 1 Axes>"
      ]
     },
     "metadata": {
      "needs_background": "light"
     },
     "output_type": "display_data"
    }
   ],
   "source": [
    "# visualize hourly wind speed at station n\n",
    "stn = '710630'\n",
    "start_date  = dt.datetime(year, 8, 1)\n",
    "end_date = dt.datetime(year, 8, 7)\n",
    "f,ax = plt.subplots(figsize=(12,4))\n",
    "tmp_wthr_df = wthr_df.loc[\n",
    "    (wthr_df['datetime']>start_date) & \n",
    "    (wthr_df['datetime']<end_date) & \n",
    "    (wthr_df['station_id']==stn)]\n",
    "sns.scatterplot(x='datetime', y='wind_speed', data=tmp_wthr_df)\n",
    "sns.lineplot(x='datetime', y='wind_speed', data=tmp_wthr_df)\n",
    "ax.set_xlim([start_date,end_date])\n",
    "plt.xticks(rotation=90)\n",
    "ax.set_xlabel('Date')\n",
    "ax.set_ylabel('Wind Speed (mph)')\n",
    "plt.show();"
   ]
  },
  {
   "cell_type": "code",
   "execution_count": 59,
   "metadata": {},
   "outputs": [
    {
     "name": "stdout",
     "output_type": "stream",
     "text": [
      "['710630', '711610', '711710', '711720', '711960', '712610', '712625', '712630', '712643', '712650', '712700', '712820', '712940', '712960', '712970', '712980', '713000', '713030', '713041', '713070', '713140', '713520', '713680', '713760', '714300', '714310', '714320', '714360', '714370', '714380', '714390', '714600', '714620', '714630', '714640', '715080', '715320', '715340', '715380', '715730', '715810', '716200', '716210', '716220', '716230', '716240', '716250', '716279', '716280', '716300', '716310', '716330', '716390', '716720', '716940', '716970', '717040', '717120', '717210', '717300', '717310', '717330', '717460', '717520', '717670', '718200', '719560']\n"
     ]
    }
   ],
   "source": [
    "# exclude stations that don't have pressure data\n",
    "tmp = wthr_df.groupby('station_id').mean()\n",
    "rows = tmp['pressure'].isnull().values\n",
    "rows = np.invert(rows)\n",
    "tmp = list(tmp.iloc[rows,:].index)\n",
    "\n",
    "true_meta_df = meta_df[meta_df['af_station_id'].isin(tmp)]\n",
    "true_wthr_df = wthr_df[wthr_df['station_id'].isin(tmp)]"
   ]
  },
  {
   "cell_type": "code",
   "execution_count": 60,
   "metadata": {},
   "outputs": [],
   "source": [
    "# At this point we've got two pieces of information - write them to csv\n",
    "#    (1) meta_df = Station location (and other metadata)\n",
    "#    (2) wthr_df = Station weather conditions\n",
    "\n",
    "true_meta_df.to_csv('3cleaned_weather_data/compiled_wind_wthr_station_metadata_' + str(year) + '.csv')\n",
    "true_wthr_df.to_csv('3cleaned_weather_data/compiled_wind_speed_data_' + str(year) + '.csv')"
   ]
  },
  {
   "cell_type": "code",
   "execution_count": null,
   "metadata": {},
   "outputs": [],
   "source": []
  }
 ],
 "metadata": {
  "kernelspec": {
   "display_name": "Python 3",
   "language": "python",
   "name": "python3"
  },
  "language_info": {
   "codemirror_mode": {
    "name": "ipython",
    "version": 3
   },
   "file_extension": ".py",
   "mimetype": "text/x-python",
   "name": "python",
   "nbconvert_exporter": "python",
   "pygments_lexer": "ipython3",
   "version": "3.7.3"
  }
 },
 "nbformat": 4,
 "nbformat_minor": 2
}
